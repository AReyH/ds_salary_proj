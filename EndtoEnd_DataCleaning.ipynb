{
  "nbformat": 4,
  "nbformat_minor": 0,
  "metadata": {
    "colab": {
      "name": "EndtoEnd_DataCleaning.ipynb",
      "provenance": [],
      "collapsed_sections": []
    },
    "kernelspec": {
      "name": "python3",
      "display_name": "Python 3"
    }
  },
  "cells": [
    {
      "cell_type": "code",
      "metadata": {
        "id": "hJcIiqxkbmfZ"
      },
      "source": [
        "import pandas as pd\r\n",
        "import numpy as np"
      ],
      "execution_count": 47,
      "outputs": []
    },
    {
      "cell_type": "markdown",
      "metadata": {
        "id": "M9fM9wtrmCet"
      },
      "source": [
        "To do's\n",
        "\n",
        "\n",
        "\n",
        "*   Salary pasring\n",
        "\n",
        "*   Company name text only\n",
        "\n",
        "*   State field\n",
        "*   Age of company\n",
        "\n",
        "\n",
        "*   Parsing of job description (python, r)\n"
      ]
    },
    {
      "cell_type": "code",
      "metadata": {
        "id": "muN7AV5OeWzz"
      },
      "source": [
        "df = pd.read_csv('/content/drive/MyDrive/salary_project_ds.csv')"
      ],
      "execution_count": 48,
      "outputs": []
    },
    {
      "cell_type": "code",
      "metadata": {
        "id": "GN5CKILFpIwc"
      },
      "source": [
        "df = df[df['Salary Estimate'] != '-1']"
      ],
      "execution_count": 49,
      "outputs": []
    },
    {
      "cell_type": "code",
      "metadata": {
        "colab": {
          "base_uri": "https://localhost:8080/",
          "height": 966
        },
        "id": "92K1KUGupQ2m",
        "outputId": "84e6d505-2ac4-4e0d-d0cb-ec3ef09fdf6d"
      },
      "source": [
        "df"
      ],
      "execution_count": 50,
      "outputs": [
        {
          "output_type": "execute_result",
          "data": {
            "text/html": [
              "<div>\n",
              "<style scoped>\n",
              "    .dataframe tbody tr th:only-of-type {\n",
              "        vertical-align: middle;\n",
              "    }\n",
              "\n",
              "    .dataframe tbody tr th {\n",
              "        vertical-align: top;\n",
              "    }\n",
              "\n",
              "    .dataframe thead th {\n",
              "        text-align: right;\n",
              "    }\n",
              "</style>\n",
              "<table border=\"1\" class=\"dataframe\">\n",
              "  <thead>\n",
              "    <tr style=\"text-align: right;\">\n",
              "      <th></th>\n",
              "      <th>Unnamed: 0</th>\n",
              "      <th>Unnamed: 0.1</th>\n",
              "      <th>Job Title</th>\n",
              "      <th>Salary Estimate</th>\n",
              "      <th>Job Description</th>\n",
              "      <th>Rating</th>\n",
              "      <th>Company Name</th>\n",
              "      <th>Location</th>\n",
              "      <th>Headquarters</th>\n",
              "      <th>Size</th>\n",
              "      <th>Founded</th>\n",
              "      <th>Type of ownership</th>\n",
              "      <th>Industry</th>\n",
              "      <th>Sector</th>\n",
              "      <th>Revenue</th>\n",
              "      <th>Competitors</th>\n",
              "    </tr>\n",
              "  </thead>\n",
              "  <tbody>\n",
              "    <tr>\n",
              "      <th>0</th>\n",
              "      <td>0</td>\n",
              "      <td>0</td>\n",
              "      <td>Business Analyst - Data Science</td>\n",
              "      <td>$37K - $68K (Glassdoor est.)</td>\n",
              "      <td>Meet MedPro Group. We’re an industry-leading B...</td>\n",
              "      <td>3.7</td>\n",
              "      <td>MedPro Group\\n3.7</td>\n",
              "      <td>Fort Wayne, IN</td>\n",
              "      <td>-1</td>\n",
              "      <td>501 to 1000 Employees</td>\n",
              "      <td>1899</td>\n",
              "      <td>Subsidiary or Business Segment</td>\n",
              "      <td>Insurance Carriers</td>\n",
              "      <td>Insurance</td>\n",
              "      <td>$1 to $2 billion (USD)</td>\n",
              "      <td>-1</td>\n",
              "    </tr>\n",
              "    <tr>\n",
              "      <th>1</th>\n",
              "      <td>1</td>\n",
              "      <td>1</td>\n",
              "      <td>Software Engineer - Data Science</td>\n",
              "      <td>$37K - $68K (Glassdoor est.)</td>\n",
              "      <td>Join ClearEdge and be a part of the team of me...</td>\n",
              "      <td>3.7</td>\n",
              "      <td>ClearEdge\\n4.1</td>\n",
              "      <td>Annapolis Junction, MD</td>\n",
              "      <td>-1</td>\n",
              "      <td>51 to 200 Employees</td>\n",
              "      <td>2002</td>\n",
              "      <td>Company - Private</td>\n",
              "      <td>Computer Hardware &amp; Software</td>\n",
              "      <td>Information Technology</td>\n",
              "      <td>$5 to $10 million (USD)</td>\n",
              "      <td>-1</td>\n",
              "    </tr>\n",
              "    <tr>\n",
              "      <th>2</th>\n",
              "      <td>2</td>\n",
              "      <td>2</td>\n",
              "      <td>Data Analyst</td>\n",
              "      <td>$37K - $68K (Glassdoor est.)</td>\n",
              "      <td>This position will be responsible for the deve...</td>\n",
              "      <td>3.7</td>\n",
              "      <td>Bell Partners\\n3.6</td>\n",
              "      <td>Raleigh, NC</td>\n",
              "      <td>-1</td>\n",
              "      <td>1001 to 5000 Employees</td>\n",
              "      <td>1976</td>\n",
              "      <td>Company - Private</td>\n",
              "      <td>Real Estate</td>\n",
              "      <td>Real Estate</td>\n",
              "      <td>$50 to $100 million (USD)</td>\n",
              "      <td>-1</td>\n",
              "    </tr>\n",
              "    <tr>\n",
              "      <th>3</th>\n",
              "      <td>3</td>\n",
              "      <td>3</td>\n",
              "      <td>CLINICAL DATABASE MANAGER II</td>\n",
              "      <td>$37K - $68K (Glassdoor est.)</td>\n",
              "      <td>The University of Alabama at Birmingham (UAB) ...</td>\n",
              "      <td>3.7</td>\n",
              "      <td>University of Alabama at Birmingham\\n4.1</td>\n",
              "      <td>Birmingham, AL</td>\n",
              "      <td>-1</td>\n",
              "      <td>10000+ Employees</td>\n",
              "      <td>-1</td>\n",
              "      <td>College / University</td>\n",
              "      <td>Colleges &amp; Universities</td>\n",
              "      <td>Education</td>\n",
              "      <td>$1 to $2 billion (USD)</td>\n",
              "      <td>-1</td>\n",
              "    </tr>\n",
              "    <tr>\n",
              "      <th>4</th>\n",
              "      <td>4</td>\n",
              "      <td>4</td>\n",
              "      <td>Corporate Planning Analyst</td>\n",
              "      <td>$37K - $68K (Glassdoor est.)</td>\n",
              "      <td>Waystar modernizes healthcare payments through...</td>\n",
              "      <td>3.7</td>\n",
              "      <td>Waystar\\n3.9</td>\n",
              "      <td>Louisville, KY</td>\n",
              "      <td>-1</td>\n",
              "      <td>501 to 1000 Employees</td>\n",
              "      <td>-1</td>\n",
              "      <td>Company - Private</td>\n",
              "      <td>Enterprise Software &amp; Network Solutions</td>\n",
              "      <td>Information Technology</td>\n",
              "      <td>Unknown / Non-Applicable</td>\n",
              "      <td>-1</td>\n",
              "    </tr>\n",
              "    <tr>\n",
              "      <th>...</th>\n",
              "      <td>...</td>\n",
              "      <td>...</td>\n",
              "      <td>...</td>\n",
              "      <td>...</td>\n",
              "      <td>...</td>\n",
              "      <td>...</td>\n",
              "      <td>...</td>\n",
              "      <td>...</td>\n",
              "      <td>...</td>\n",
              "      <td>...</td>\n",
              "      <td>...</td>\n",
              "      <td>...</td>\n",
              "      <td>...</td>\n",
              "      <td>...</td>\n",
              "      <td>...</td>\n",
              "      <td>...</td>\n",
              "    </tr>\n",
              "    <tr>\n",
              "      <th>575</th>\n",
              "      <td>25</td>\n",
              "      <td>25</td>\n",
              "      <td>Senior Data Scientist</td>\n",
              "      <td>$42K - $74K (Glassdoor est.)</td>\n",
              "      <td>Driven by our mission to make it easier to und...</td>\n",
              "      <td>4.0</td>\n",
              "      <td>Collective Health\\n3.1</td>\n",
              "      <td>San Francisco, CA</td>\n",
              "      <td>-1</td>\n",
              "      <td>201 to 500 Employees</td>\n",
              "      <td>2013</td>\n",
              "      <td>Company - Private</td>\n",
              "      <td>Enterprise Software &amp; Network Solutions</td>\n",
              "      <td>Information Technology</td>\n",
              "      <td>Unknown / Non-Applicable</td>\n",
              "      <td>-1</td>\n",
              "    </tr>\n",
              "    <tr>\n",
              "      <th>576</th>\n",
              "      <td>26</td>\n",
              "      <td>26</td>\n",
              "      <td>Machine Learning Engineer</td>\n",
              "      <td>$42K - $74K (Glassdoor est.)</td>\n",
              "      <td>Job Summary\\nWe are looking for a Machine Lear...</td>\n",
              "      <td>4.0</td>\n",
              "      <td>Ophthalmology Specialists of Texas</td>\n",
              "      <td>Abilene, TX</td>\n",
              "      <td>-1</td>\n",
              "      <td>-1</td>\n",
              "      <td>-1</td>\n",
              "      <td>-1</td>\n",
              "      <td>-1</td>\n",
              "      <td>-1</td>\n",
              "      <td>-1</td>\n",
              "      <td>-1</td>\n",
              "    </tr>\n",
              "    <tr>\n",
              "      <th>577</th>\n",
              "      <td>27</td>\n",
              "      <td>27</td>\n",
              "      <td>Data Scientist</td>\n",
              "      <td>$42K - $74K (Glassdoor est.)</td>\n",
              "      <td>THE TEAM YOU WILL BE JOINING:\\nOne of the larg...</td>\n",
              "      <td>4.0</td>\n",
              "      <td>AccruePartners\\n2.6</td>\n",
              "      <td>Charlotte, NC</td>\n",
              "      <td>-1</td>\n",
              "      <td>51 to 200 Employees</td>\n",
              "      <td>2002</td>\n",
              "      <td>Company - Private</td>\n",
              "      <td>Staffing &amp; Outsourcing</td>\n",
              "      <td>Business Services</td>\n",
              "      <td>$25 to $50 million (USD)</td>\n",
              "      <td>-1</td>\n",
              "    </tr>\n",
              "    <tr>\n",
              "      <th>578</th>\n",
              "      <td>28</td>\n",
              "      <td>28</td>\n",
              "      <td>Call Center Business Analyst</td>\n",
              "      <td>$42K - $74K (Glassdoor est.)</td>\n",
              "      <td>Position Overview: The Business Support Analys...</td>\n",
              "      <td>4.0</td>\n",
              "      <td>Recovery Centers of America\\n3.2</td>\n",
              "      <td>King of Prussia, PA</td>\n",
              "      <td>-1</td>\n",
              "      <td>1001 to 5000 Employees</td>\n",
              "      <td>2015</td>\n",
              "      <td>Company - Private</td>\n",
              "      <td>Health Care Services &amp; Hospitals</td>\n",
              "      <td>Health Care</td>\n",
              "      <td>$25 to $50 million (USD)</td>\n",
              "      <td>-1</td>\n",
              "    </tr>\n",
              "    <tr>\n",
              "      <th>579</th>\n",
              "      <td>29</td>\n",
              "      <td>29</td>\n",
              "      <td>Data Scientist</td>\n",
              "      <td>$42K - $74K (Glassdoor est.)</td>\n",
              "      <td>Job Description\\n\\nBITS, a CACI Company, offer...</td>\n",
              "      <td>4.0</td>\n",
              "      <td>CACI\\n3.9</td>\n",
              "      <td>Denver, CO</td>\n",
              "      <td>-1</td>\n",
              "      <td>10000+ Employees</td>\n",
              "      <td>1962</td>\n",
              "      <td>Company - Public</td>\n",
              "      <td>Aerospace &amp; Defense</td>\n",
              "      <td>Aerospace &amp; Defense</td>\n",
              "      <td>$2 to $5 billion (USD)</td>\n",
              "      <td>-1</td>\n",
              "    </tr>\n",
              "  </tbody>\n",
              "</table>\n",
              "<p>430 rows × 16 columns</p>\n",
              "</div>"
            ],
            "text/plain": [
              "     Unnamed: 0  Unnamed: 0.1  ...                    Revenue Competitors\n",
              "0             0             0  ...     $1 to $2 billion (USD)          -1\n",
              "1             1             1  ...    $5 to $10 million (USD)          -1\n",
              "2             2             2  ...  $50 to $100 million (USD)          -1\n",
              "3             3             3  ...     $1 to $2 billion (USD)          -1\n",
              "4             4             4  ...   Unknown / Non-Applicable          -1\n",
              "..          ...           ...  ...                        ...         ...\n",
              "575          25            25  ...   Unknown / Non-Applicable          -1\n",
              "576          26            26  ...                         -1          -1\n",
              "577          27            27  ...   $25 to $50 million (USD)          -1\n",
              "578          28            28  ...   $25 to $50 million (USD)          -1\n",
              "579          29            29  ...     $2 to $5 billion (USD)          -1\n",
              "\n",
              "[430 rows x 16 columns]"
            ]
          },
          "metadata": {
            "tags": []
          },
          "execution_count": 50
        }
      ]
    },
    {
      "cell_type": "markdown",
      "metadata": {
        "id": "de0KcC-dSwlv"
      },
      "source": [
        "Salary parsing"
      ]
    },
    {
      "cell_type": "code",
      "metadata": {
        "id": "2Bv_8cSzpRtL"
      },
      "source": [
        "salary = df['Salary Estimate'].apply(lambda x: x.split('(')[0])"
      ],
      "execution_count": 51,
      "outputs": []
    },
    {
      "cell_type": "code",
      "metadata": {
        "colab": {
          "base_uri": "https://localhost:8080/"
        },
        "id": "Vt_mSH_EDdOg",
        "outputId": "bc6c7382-e28d-456d-d112-6f0bfd6b61cf"
      },
      "source": [
        "salary"
      ],
      "execution_count": 52,
      "outputs": [
        {
          "output_type": "execute_result",
          "data": {
            "text/plain": [
              "0      $37K - $68K \n",
              "1      $37K - $68K \n",
              "2      $37K - $68K \n",
              "3      $37K - $68K \n",
              "4      $37K - $68K \n",
              "           ...     \n",
              "575    $42K - $74K \n",
              "576    $42K - $74K \n",
              "577    $42K - $74K \n",
              "578    $42K - $74K \n",
              "579    $42K - $74K \n",
              "Name: Salary Estimate, Length: 430, dtype: object"
            ]
          },
          "metadata": {
            "tags": []
          },
          "execution_count": 52
        }
      ]
    },
    {
      "cell_type": "code",
      "metadata": {
        "id": "NHS4ivDfDePY"
      },
      "source": [
        "minus_Kd = salary.apply(lambda x: x.replace('K','').replace('$',''))"
      ],
      "execution_count": 53,
      "outputs": []
    },
    {
      "cell_type": "code",
      "metadata": {
        "colab": {
          "base_uri": "https://localhost:8080/"
        },
        "id": "YZ-wTGt3EBmp",
        "outputId": "021426b5-1309-4989-9acb-777183669057"
      },
      "source": [
        "minus_Kd"
      ],
      "execution_count": 54,
      "outputs": [
        {
          "output_type": "execute_result",
          "data": {
            "text/plain": [
              "0      37 - 68 \n",
              "1      37 - 68 \n",
              "2      37 - 68 \n",
              "3      37 - 68 \n",
              "4      37 - 68 \n",
              "         ...   \n",
              "575    42 - 74 \n",
              "576    42 - 74 \n",
              "577    42 - 74 \n",
              "578    42 - 74 \n",
              "579    42 - 74 \n",
              "Name: Salary Estimate, Length: 430, dtype: object"
            ]
          },
          "metadata": {
            "tags": []
          },
          "execution_count": 54
        }
      ]
    },
    {
      "cell_type": "code",
      "metadata": {
        "id": "E7ZLmyXjED0l"
      },
      "source": [
        "df['hourly'] = df['Salary Estimate'].apply(lambda x: 1 if 'per hour' in x.lower() else 0)\n",
        "df['employer_provided'] = df['Salary Estimate'].apply(lambda x: 1 if 'employer prodided salary' in x.lower() else 0)"
      ],
      "execution_count": 55,
      "outputs": []
    },
    {
      "cell_type": "code",
      "metadata": {
        "id": "_kzkxSH8LgHD"
      },
      "source": [
        "min_hr = minus_Kd.apply(lambda x: x.lower().replace('per hour','').replace('employer provided salary',''))\n",
        "# Removes the Per Hour, and Employer Provided Salary from the text"
      ],
      "execution_count": 56,
      "outputs": []
    },
    {
      "cell_type": "code",
      "metadata": {
        "id": "031TBrwOLlLS"
      },
      "source": [
        "df['min_salary'] = min_hr.apply(lambda x: x.split('-')[0]).astype('int')\n",
        "df['max_salary'] = min_hr.apply(lambda x: x.split('-')[1]).astype('int')"
      ],
      "execution_count": 57,
      "outputs": []
    },
    {
      "cell_type": "code",
      "metadata": {
        "id": "0E-phn-BNW-t"
      },
      "source": [
        "df['avg_salary'] = (df['max_salary']+df['min_salary'])/2"
      ],
      "execution_count": 58,
      "outputs": []
    },
    {
      "cell_type": "markdown",
      "metadata": {
        "id": "YudvlZm_SrFb"
      },
      "source": [
        "Company text only"
      ]
    },
    {
      "cell_type": "code",
      "metadata": {
        "id": "Lg8X8AssNAJt"
      },
      "source": [
        "df['company_txt'] = df.apply(lambda x: x['Company Name'] if x['Rating'] < 0 else x['Company Name'][:-3],axis=1)\n",
        "df['company_txt'] = df['company_txt'].apply(lambda x: x.replace('\\n',''))"
      ],
      "execution_count": 59,
      "outputs": []
    },
    {
      "cell_type": "markdown",
      "metadata": {
        "id": "uYZLadypSyuJ"
      },
      "source": [
        "State field"
      ]
    },
    {
      "cell_type": "code",
      "metadata": {
        "id": "UnvLtMmiNAnd"
      },
      "source": [
        "df['job_state'] = df['Location'].apply(lambda x: x[-2:])"
      ],
      "execution_count": 60,
      "outputs": []
    },
    {
      "cell_type": "markdown",
      "metadata": {
        "id": "0rikHeh5ZJWg"
      },
      "source": [
        "Age of company"
      ]
    },
    {
      "cell_type": "code",
      "metadata": {
        "id": "W7Xfx9GKOMhW"
      },
      "source": [
        "df['age'] = df['Founded'].apply(lambda x: x if x < 0 else 2021 - x)"
      ],
      "execution_count": 61,
      "outputs": []
    },
    {
      "cell_type": "markdown",
      "metadata": {
        "id": "I93QlRGqZcHE"
      },
      "source": [
        "**Parsing of job description**"
      ]
    },
    {
      "cell_type": "markdown",
      "metadata": {
        "id": "2noW2SPsZwwq"
      },
      "source": [
        "Python"
      ]
    },
    {
      "cell_type": "code",
      "metadata": {
        "id": "z8MgnQBuZvaj"
      },
      "source": [
        "df['python_yn'] = df['Job Description'].apply(lambda x: 1 if 'python' in x.lower() else 0)"
      ],
      "execution_count": 62,
      "outputs": []
    },
    {
      "cell_type": "markdown",
      "metadata": {
        "id": "IdyEALcWZyrp"
      },
      "source": [
        "R Studio"
      ]
    },
    {
      "cell_type": "code",
      "metadata": {
        "id": "5pJm-ZGaS_YI"
      },
      "source": [
        "df['r_yn'] = df['Job Description'].apply(lambda x: 1 if 'r studio' in x.lower() or 'r-studio' in x.lower() else 0)"
      ],
      "execution_count": 63,
      "outputs": []
    },
    {
      "cell_type": "markdown",
      "metadata": {
        "id": "ytLWNFN1bAfF"
      },
      "source": [
        "Apache Spark"
      ]
    },
    {
      "cell_type": "code",
      "metadata": {
        "id": "xwnfAhb4bARV"
      },
      "source": [
        "df['spark_yn'] = df['Job Description'].apply(lambda x: 1 if 'spark' in x.lower() else 0)"
      ],
      "execution_count": 64,
      "outputs": []
    },
    {
      "cell_type": "markdown",
      "metadata": {
        "id": "XOe7c9YWbNUQ"
      },
      "source": [
        "AWS"
      ]
    },
    {
      "cell_type": "code",
      "metadata": {
        "id": "t7C-vCAYZUjL"
      },
      "source": [
        "df['aws_yn'] = df['Job Description'].apply(lambda x: 1 if 'aws' in x.lower() else 0)"
      ],
      "execution_count": 65,
      "outputs": []
    },
    {
      "cell_type": "markdown",
      "metadata": {
        "id": "coRwzFAFbSg6"
      },
      "source": [
        "Excel"
      ]
    },
    {
      "cell_type": "code",
      "metadata": {
        "id": "vRN6lLKWbRyX"
      },
      "source": [
        "df['excel_yn'] = df['Job Description'].apply(lambda x: 1 if 'excel' in x.lower() else 0)"
      ],
      "execution_count": 66,
      "outputs": []
    },
    {
      "cell_type": "code",
      "metadata": {
        "id": "eOLYCxbJbVNL"
      },
      "source": [
        "df = df.drop('Unnamed: 0',axis=1)"
      ],
      "execution_count": 67,
      "outputs": []
    },
    {
      "cell_type": "code",
      "metadata": {
        "id": "baynfeF2bkLg"
      },
      "source": [
        "df = df.drop('Unnamed: 0.1',axis=1)"
      ],
      "execution_count": 68,
      "outputs": []
    },
    {
      "cell_type": "code",
      "metadata": {
        "id": "xg4pJq1Hbn47"
      },
      "source": [
        "df = df.drop('Headquarters',axis=1)"
      ],
      "execution_count": 69,
      "outputs": []
    },
    {
      "cell_type": "code",
      "metadata": {
        "id": "DPYuELsnbt7t"
      },
      "source": [
        "df = df.drop('Competitors',axis=1)"
      ],
      "execution_count": 70,
      "outputs": []
    },
    {
      "cell_type": "code",
      "metadata": {
        "id": "4lk6DsWFb_56"
      },
      "source": [
        "df = df.drop('Company Name',axis=1)"
      ],
      "execution_count": 71,
      "outputs": []
    },
    {
      "cell_type": "code",
      "metadata": {
        "colab": {
          "base_uri": "https://localhost:8080/",
          "height": 966
        },
        "id": "CfKcx0-mbdCw",
        "outputId": "d4dc3472-4a29-40dc-c48c-8dea2a1a6179"
      },
      "source": [
        "df"
      ],
      "execution_count": 72,
      "outputs": [
        {
          "output_type": "execute_result",
          "data": {
            "text/html": [
              "<div>\n",
              "<style scoped>\n",
              "    .dataframe tbody tr th:only-of-type {\n",
              "        vertical-align: middle;\n",
              "    }\n",
              "\n",
              "    .dataframe tbody tr th {\n",
              "        vertical-align: top;\n",
              "    }\n",
              "\n",
              "    .dataframe thead th {\n",
              "        text-align: right;\n",
              "    }\n",
              "</style>\n",
              "<table border=\"1\" class=\"dataframe\">\n",
              "  <thead>\n",
              "    <tr style=\"text-align: right;\">\n",
              "      <th></th>\n",
              "      <th>Job Title</th>\n",
              "      <th>Salary Estimate</th>\n",
              "      <th>Job Description</th>\n",
              "      <th>Rating</th>\n",
              "      <th>Location</th>\n",
              "      <th>Size</th>\n",
              "      <th>Founded</th>\n",
              "      <th>Type of ownership</th>\n",
              "      <th>Industry</th>\n",
              "      <th>Sector</th>\n",
              "      <th>Revenue</th>\n",
              "      <th>hourly</th>\n",
              "      <th>employer_provided</th>\n",
              "      <th>min_salary</th>\n",
              "      <th>max_salary</th>\n",
              "      <th>avg_salary</th>\n",
              "      <th>company_txt</th>\n",
              "      <th>job_state</th>\n",
              "      <th>age</th>\n",
              "      <th>python_yn</th>\n",
              "      <th>r_yn</th>\n",
              "      <th>spark_yn</th>\n",
              "      <th>aws_yn</th>\n",
              "      <th>excel_yn</th>\n",
              "    </tr>\n",
              "  </thead>\n",
              "  <tbody>\n",
              "    <tr>\n",
              "      <th>0</th>\n",
              "      <td>Business Analyst - Data Science</td>\n",
              "      <td>$37K - $68K (Glassdoor est.)</td>\n",
              "      <td>Meet MedPro Group. We’re an industry-leading B...</td>\n",
              "      <td>3.7</td>\n",
              "      <td>Fort Wayne, IN</td>\n",
              "      <td>501 to 1000 Employees</td>\n",
              "      <td>1899</td>\n",
              "      <td>Subsidiary or Business Segment</td>\n",
              "      <td>Insurance Carriers</td>\n",
              "      <td>Insurance</td>\n",
              "      <td>$1 to $2 billion (USD)</td>\n",
              "      <td>0</td>\n",
              "      <td>0</td>\n",
              "      <td>37</td>\n",
              "      <td>68</td>\n",
              "      <td>52.5</td>\n",
              "      <td>MedPro Group</td>\n",
              "      <td>IN</td>\n",
              "      <td>122</td>\n",
              "      <td>0</td>\n",
              "      <td>0</td>\n",
              "      <td>0</td>\n",
              "      <td>0</td>\n",
              "      <td>1</td>\n",
              "    </tr>\n",
              "    <tr>\n",
              "      <th>1</th>\n",
              "      <td>Software Engineer - Data Science</td>\n",
              "      <td>$37K - $68K (Glassdoor est.)</td>\n",
              "      <td>Join ClearEdge and be a part of the team of me...</td>\n",
              "      <td>3.7</td>\n",
              "      <td>Annapolis Junction, MD</td>\n",
              "      <td>51 to 200 Employees</td>\n",
              "      <td>2002</td>\n",
              "      <td>Company - Private</td>\n",
              "      <td>Computer Hardware &amp; Software</td>\n",
              "      <td>Information Technology</td>\n",
              "      <td>$5 to $10 million (USD)</td>\n",
              "      <td>0</td>\n",
              "      <td>0</td>\n",
              "      <td>37</td>\n",
              "      <td>68</td>\n",
              "      <td>52.5</td>\n",
              "      <td>ClearEdge</td>\n",
              "      <td>MD</td>\n",
              "      <td>19</td>\n",
              "      <td>0</td>\n",
              "      <td>0</td>\n",
              "      <td>0</td>\n",
              "      <td>0</td>\n",
              "      <td>1</td>\n",
              "    </tr>\n",
              "    <tr>\n",
              "      <th>2</th>\n",
              "      <td>Data Analyst</td>\n",
              "      <td>$37K - $68K (Glassdoor est.)</td>\n",
              "      <td>This position will be responsible for the deve...</td>\n",
              "      <td>3.7</td>\n",
              "      <td>Raleigh, NC</td>\n",
              "      <td>1001 to 5000 Employees</td>\n",
              "      <td>1976</td>\n",
              "      <td>Company - Private</td>\n",
              "      <td>Real Estate</td>\n",
              "      <td>Real Estate</td>\n",
              "      <td>$50 to $100 million (USD)</td>\n",
              "      <td>0</td>\n",
              "      <td>0</td>\n",
              "      <td>37</td>\n",
              "      <td>68</td>\n",
              "      <td>52.5</td>\n",
              "      <td>Bell Partners</td>\n",
              "      <td>NC</td>\n",
              "      <td>45</td>\n",
              "      <td>0</td>\n",
              "      <td>0</td>\n",
              "      <td>0</td>\n",
              "      <td>0</td>\n",
              "      <td>0</td>\n",
              "    </tr>\n",
              "    <tr>\n",
              "      <th>3</th>\n",
              "      <td>CLINICAL DATABASE MANAGER II</td>\n",
              "      <td>$37K - $68K (Glassdoor est.)</td>\n",
              "      <td>The University of Alabama at Birmingham (UAB) ...</td>\n",
              "      <td>3.7</td>\n",
              "      <td>Birmingham, AL</td>\n",
              "      <td>10000+ Employees</td>\n",
              "      <td>-1</td>\n",
              "      <td>College / University</td>\n",
              "      <td>Colleges &amp; Universities</td>\n",
              "      <td>Education</td>\n",
              "      <td>$1 to $2 billion (USD)</td>\n",
              "      <td>0</td>\n",
              "      <td>0</td>\n",
              "      <td>37</td>\n",
              "      <td>68</td>\n",
              "      <td>52.5</td>\n",
              "      <td>University of Alabama at Birmingham</td>\n",
              "      <td>AL</td>\n",
              "      <td>-1</td>\n",
              "      <td>0</td>\n",
              "      <td>0</td>\n",
              "      <td>0</td>\n",
              "      <td>0</td>\n",
              "      <td>0</td>\n",
              "    </tr>\n",
              "    <tr>\n",
              "      <th>4</th>\n",
              "      <td>Corporate Planning Analyst</td>\n",
              "      <td>$37K - $68K (Glassdoor est.)</td>\n",
              "      <td>Waystar modernizes healthcare payments through...</td>\n",
              "      <td>3.7</td>\n",
              "      <td>Louisville, KY</td>\n",
              "      <td>501 to 1000 Employees</td>\n",
              "      <td>-1</td>\n",
              "      <td>Company - Private</td>\n",
              "      <td>Enterprise Software &amp; Network Solutions</td>\n",
              "      <td>Information Technology</td>\n",
              "      <td>Unknown / Non-Applicable</td>\n",
              "      <td>0</td>\n",
              "      <td>0</td>\n",
              "      <td>37</td>\n",
              "      <td>68</td>\n",
              "      <td>52.5</td>\n",
              "      <td>Waystar</td>\n",
              "      <td>KY</td>\n",
              "      <td>-1</td>\n",
              "      <td>0</td>\n",
              "      <td>0</td>\n",
              "      <td>0</td>\n",
              "      <td>0</td>\n",
              "      <td>0</td>\n",
              "    </tr>\n",
              "    <tr>\n",
              "      <th>...</th>\n",
              "      <td>...</td>\n",
              "      <td>...</td>\n",
              "      <td>...</td>\n",
              "      <td>...</td>\n",
              "      <td>...</td>\n",
              "      <td>...</td>\n",
              "      <td>...</td>\n",
              "      <td>...</td>\n",
              "      <td>...</td>\n",
              "      <td>...</td>\n",
              "      <td>...</td>\n",
              "      <td>...</td>\n",
              "      <td>...</td>\n",
              "      <td>...</td>\n",
              "      <td>...</td>\n",
              "      <td>...</td>\n",
              "      <td>...</td>\n",
              "      <td>...</td>\n",
              "      <td>...</td>\n",
              "      <td>...</td>\n",
              "      <td>...</td>\n",
              "      <td>...</td>\n",
              "      <td>...</td>\n",
              "      <td>...</td>\n",
              "    </tr>\n",
              "    <tr>\n",
              "      <th>575</th>\n",
              "      <td>Senior Data Scientist</td>\n",
              "      <td>$42K - $74K (Glassdoor est.)</td>\n",
              "      <td>Driven by our mission to make it easier to und...</td>\n",
              "      <td>4.0</td>\n",
              "      <td>San Francisco, CA</td>\n",
              "      <td>201 to 500 Employees</td>\n",
              "      <td>2013</td>\n",
              "      <td>Company - Private</td>\n",
              "      <td>Enterprise Software &amp; Network Solutions</td>\n",
              "      <td>Information Technology</td>\n",
              "      <td>Unknown / Non-Applicable</td>\n",
              "      <td>0</td>\n",
              "      <td>0</td>\n",
              "      <td>42</td>\n",
              "      <td>74</td>\n",
              "      <td>58.0</td>\n",
              "      <td>Collective Health</td>\n",
              "      <td>CA</td>\n",
              "      <td>8</td>\n",
              "      <td>1</td>\n",
              "      <td>0</td>\n",
              "      <td>0</td>\n",
              "      <td>0</td>\n",
              "      <td>0</td>\n",
              "    </tr>\n",
              "    <tr>\n",
              "      <th>576</th>\n",
              "      <td>Machine Learning Engineer</td>\n",
              "      <td>$42K - $74K (Glassdoor est.)</td>\n",
              "      <td>Job Summary\\nWe are looking for a Machine Lear...</td>\n",
              "      <td>4.0</td>\n",
              "      <td>Abilene, TX</td>\n",
              "      <td>-1</td>\n",
              "      <td>-1</td>\n",
              "      <td>-1</td>\n",
              "      <td>-1</td>\n",
              "      <td>-1</td>\n",
              "      <td>-1</td>\n",
              "      <td>0</td>\n",
              "      <td>0</td>\n",
              "      <td>42</td>\n",
              "      <td>74</td>\n",
              "      <td>58.0</td>\n",
              "      <td>Ophthalmology Specialists of Te</td>\n",
              "      <td>TX</td>\n",
              "      <td>-1</td>\n",
              "      <td>1</td>\n",
              "      <td>0</td>\n",
              "      <td>0</td>\n",
              "      <td>0</td>\n",
              "      <td>0</td>\n",
              "    </tr>\n",
              "    <tr>\n",
              "      <th>577</th>\n",
              "      <td>Data Scientist</td>\n",
              "      <td>$42K - $74K (Glassdoor est.)</td>\n",
              "      <td>THE TEAM YOU WILL BE JOINING:\\nOne of the larg...</td>\n",
              "      <td>4.0</td>\n",
              "      <td>Charlotte, NC</td>\n",
              "      <td>51 to 200 Employees</td>\n",
              "      <td>2002</td>\n",
              "      <td>Company - Private</td>\n",
              "      <td>Staffing &amp; Outsourcing</td>\n",
              "      <td>Business Services</td>\n",
              "      <td>$25 to $50 million (USD)</td>\n",
              "      <td>0</td>\n",
              "      <td>0</td>\n",
              "      <td>42</td>\n",
              "      <td>74</td>\n",
              "      <td>58.0</td>\n",
              "      <td>AccruePartners</td>\n",
              "      <td>NC</td>\n",
              "      <td>19</td>\n",
              "      <td>1</td>\n",
              "      <td>0</td>\n",
              "      <td>0</td>\n",
              "      <td>0</td>\n",
              "      <td>0</td>\n",
              "    </tr>\n",
              "    <tr>\n",
              "      <th>578</th>\n",
              "      <td>Call Center Business Analyst</td>\n",
              "      <td>$42K - $74K (Glassdoor est.)</td>\n",
              "      <td>Position Overview: The Business Support Analys...</td>\n",
              "      <td>4.0</td>\n",
              "      <td>King of Prussia, PA</td>\n",
              "      <td>1001 to 5000 Employees</td>\n",
              "      <td>2015</td>\n",
              "      <td>Company - Private</td>\n",
              "      <td>Health Care Services &amp; Hospitals</td>\n",
              "      <td>Health Care</td>\n",
              "      <td>$25 to $50 million (USD)</td>\n",
              "      <td>0</td>\n",
              "      <td>0</td>\n",
              "      <td>42</td>\n",
              "      <td>74</td>\n",
              "      <td>58.0</td>\n",
              "      <td>Recovery Centers of America</td>\n",
              "      <td>PA</td>\n",
              "      <td>6</td>\n",
              "      <td>0</td>\n",
              "      <td>0</td>\n",
              "      <td>0</td>\n",
              "      <td>0</td>\n",
              "      <td>1</td>\n",
              "    </tr>\n",
              "    <tr>\n",
              "      <th>579</th>\n",
              "      <td>Data Scientist</td>\n",
              "      <td>$42K - $74K (Glassdoor est.)</td>\n",
              "      <td>Job Description\\n\\nBITS, a CACI Company, offer...</td>\n",
              "      <td>4.0</td>\n",
              "      <td>Denver, CO</td>\n",
              "      <td>10000+ Employees</td>\n",
              "      <td>1962</td>\n",
              "      <td>Company - Public</td>\n",
              "      <td>Aerospace &amp; Defense</td>\n",
              "      <td>Aerospace &amp; Defense</td>\n",
              "      <td>$2 to $5 billion (USD)</td>\n",
              "      <td>0</td>\n",
              "      <td>0</td>\n",
              "      <td>42</td>\n",
              "      <td>74</td>\n",
              "      <td>58.0</td>\n",
              "      <td>CACI</td>\n",
              "      <td>CO</td>\n",
              "      <td>59</td>\n",
              "      <td>1</td>\n",
              "      <td>0</td>\n",
              "      <td>0</td>\n",
              "      <td>1</td>\n",
              "      <td>0</td>\n",
              "    </tr>\n",
              "  </tbody>\n",
              "</table>\n",
              "<p>430 rows × 24 columns</p>\n",
              "</div>"
            ],
            "text/plain": [
              "                            Job Title  ... excel_yn\n",
              "0     Business Analyst - Data Science  ...        1\n",
              "1    Software Engineer - Data Science  ...        1\n",
              "2                        Data Analyst  ...        0\n",
              "3        CLINICAL DATABASE MANAGER II  ...        0\n",
              "4          Corporate Planning Analyst  ...        0\n",
              "..                                ...  ...      ...\n",
              "575             Senior Data Scientist  ...        0\n",
              "576         Machine Learning Engineer  ...        0\n",
              "577                    Data Scientist  ...        0\n",
              "578      Call Center Business Analyst  ...        1\n",
              "579                    Data Scientist  ...        0\n",
              "\n",
              "[430 rows x 24 columns]"
            ]
          },
          "metadata": {
            "tags": []
          },
          "execution_count": 72
        }
      ]
    },
    {
      "cell_type": "code",
      "metadata": {
        "id": "PgUgeo00bhbc"
      },
      "source": [
        "df.to_csv('salary_data_cleaned.csv')"
      ],
      "execution_count": 73,
      "outputs": []
    },
    {
      "cell_type": "code",
      "metadata": {
        "id": "-ihR4YngmRnh"
      },
      "source": [
        ""
      ],
      "execution_count": null,
      "outputs": []
    }
  ]
}